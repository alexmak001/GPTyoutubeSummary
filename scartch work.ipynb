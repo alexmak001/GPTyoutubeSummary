{
 "cells": [
  {
   "cell_type": "code",
   "execution_count": 1,
   "metadata": {},
   "outputs": [],
   "source": [
    "import openai\n",
    "import os"
   ]
  },
  {
   "cell_type": "code",
   "execution_count": 2,
   "metadata": {},
   "outputs": [],
   "source": [
    "# Set up OpenAI API credentials\n",
    "with open(\"alexapi.txt\") as f:\n",
    "    api_key = f.read().strip()\n",
    "\n",
    "openai.api_key = api_key"
   ]
  },
  {
   "cell_type": "code",
   "execution_count": 7,
   "metadata": {},
   "outputs": [],
   "source": [
    "# Define the prompt to generate text from\n",
    "prompt = \"write me a funny plot for a south park episode\"\n",
    "\n",
    "# Generate text using the ChatGPT model\n",
    "response = openai.Completion.create(\n",
    "  engine=\"curie\",\n",
    "  prompt=prompt,\n",
    "  max_tokens=200,\n",
    "  temperature=0.5\n",
    ")\n"
   ]
  },
  {
   "cell_type": "code",
   "execution_count": 11,
   "metadata": {},
   "outputs": [
    {
     "name": "stdout",
     "output_type": "stream",
     "text": [
      ".\n",
      "\n",
      "Anonymous 10/13/17 (Thu) 01:29:00 AM No. 376876 >>376874\n",
      "\n",
      "I'm not sure what you're talking about. Did you read the article?\n",
      "\n",
      "\n",
      "\n",
      ">>376875\n",
      "\n",
      "I'm not sure if you're trolling or not, but I'm not going to take you seriously. I'm not sure what you're talking about. Did you read the article?I'm not sure if you're trolling or not, but I'm not going to take you seriously.\n",
      "\n",
      "Anonymous 10/13/17 (Thu) 01:30:00 AM No. 376877 >>376876\n",
      "\n",
      "The article is about the guy who got a girl to dump her boyfriend for him. Not about the guy who got a girl to dump her boyfriend for him and then got the girl to dump her boyfriend for him. The article is about the guy who got a girl to dump her boyfriend for him.\n"
     ]
    }
   ],
   "source": [
    "# Print the generated text\n",
    "print(response[\"choices\"][0][\"text\"])"
   ]
  },
  {
   "cell_type": "code",
   "execution_count": null,
   "metadata": {},
   "outputs": [],
   "source": []
  }
 ],
 "metadata": {
  "kernelspec": {
   "display_name": "base",
   "language": "python",
   "name": "python3"
  },
  "language_info": {
   "codemirror_mode": {
    "name": "ipython",
    "version": 3
   },
   "file_extension": ".py",
   "mimetype": "text/x-python",
   "name": "python",
   "nbconvert_exporter": "python",
   "pygments_lexer": "ipython3",
   "version": "3.10.9"
  },
  "orig_nbformat": 4
 },
 "nbformat": 4,
 "nbformat_minor": 2
}
