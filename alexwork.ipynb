{
 "cells": [
  {
   "cell_type": "code",
   "execution_count": 31,
   "metadata": {},
   "outputs": [],
   "source": [
    "import openai\n",
    "import os\n",
    "import google.auth\n",
    "from googleapiclient.discovery import build\n",
    "import googleapiclient.errors\n",
    "from google.auth.transport.requests import Request\n",
    "from google.oauth2.credentials import Credentials"
   ]
  },
  {
   "cell_type": "code",
   "execution_count": null,
   "metadata": {},
   "outputs": [],
   "source": []
  },
  {
   "attachments": {},
   "cell_type": "markdown",
   "metadata": {},
   "source": [
    "### Youtube API"
   ]
  },
  {
   "cell_type": "code",
   "execution_count": 2,
   "metadata": {},
   "outputs": [],
   "source": [
    "# Set up OpenAI API credentials\n",
    "with open(\"alexytapi.txt\") as f:\n",
    "    yt_api_key = f.read().strip()\n"
   ]
  },
  {
   "cell_type": "code",
   "execution_count": 40,
   "metadata": {},
   "outputs": [],
   "source": [
    "# Load the client ID and secret from the JSON file\n",
    "creds = Credentials.from_authorized_user_file('alexoauth2.json', scopes=['https://www.googleapis.com/auth/youtube.force-ssl'])\n",
    "\n",
    "# If the credentials have expired, refresh them\n",
    "if creds and creds.expired and creds.refresh_token:\n",
    "    creds.refresh(Request())"
   ]
  },
  {
   "cell_type": "code",
   "execution_count": 41,
   "metadata": {},
   "outputs": [],
   "source": [
    "youtube = build('youtube', 'v3', credentials=creds)"
   ]
  },
  {
   "cell_type": "code",
   "execution_count": 9,
   "metadata": {},
   "outputs": [],
   "source": [
    "def download_transcript(video_id):\n",
    "    #youtube = build('youtube', 'v3', developerKey=api_key)\n",
    "    \n",
    "    # Retrieve the video caption\n",
    "    captions = youtube.captions().list(\n",
    "        part='id', videoId=video_id\n",
    "    ).execute()\n",
    "    \n",
    "    # Extract the caption track ID\n",
    "    caption_id = captions['items'][0]['id']\n",
    "    \n",
    "    # Download the caption track\n",
    "    caption = youtube.captions().download(\n",
    "        id=caption_id,\n",
    "        tfmt='srt'\n",
    "    ).execute()\n",
    "    \n",
    "    return caption"
   ]
  },
  {
   "cell_type": "code",
   "execution_count": 11,
   "metadata": {},
   "outputs": [],
   "source": [
    "video_id = \"UF8uR6Z6KLc\"\n",
    "#transcript = download_transcript(video_id)"
   ]
  },
  {
   "cell_type": "code",
   "execution_count": 42,
   "metadata": {},
   "outputs": [
    {
     "ename": "HttpError",
     "evalue": "<HttpError 403 when requesting https://youtube.googleapis.com/youtube/v3/captions/AUieDabFVqU1ci7dx-cP4UHlWd3o9cjfS3ln-9GWe93N?tfmt=vtt returned \"The permissions associated with the request are not sufficient to download the caption track. The request might not be properly authorized, or the video order might not have enabled third-party contributions for this caption.\". Details: \"[{'message': 'The permissions associated with the request are not sufficient to download the caption track. The request might not be properly authorized, or the video order might not have enabled third-party contributions for this caption.', 'domain': 'youtube.caption', 'reason': 'forbidden', 'location': 'id', 'locationType': 'parameter'}]\">",
     "output_type": "error",
     "traceback": [
      "\u001b[0;31m---------------------------------------------------------------------------\u001b[0m",
      "\u001b[0;31mHttpError\u001b[0m                                 Traceback (most recent call last)",
      "Cell \u001b[0;32mIn[42], line 12\u001b[0m\n\u001b[1;32m      6\u001b[0m caption_id \u001b[39m=\u001b[39m captions[\u001b[39m'\u001b[39m\u001b[39mitems\u001b[39m\u001b[39m'\u001b[39m][\u001b[39m0\u001b[39m][\u001b[39m'\u001b[39m\u001b[39mid\u001b[39m\u001b[39m'\u001b[39m]\n\u001b[1;32m      8\u001b[0m \u001b[39m# Download the caption track\u001b[39;00m\n\u001b[1;32m      9\u001b[0m caption \u001b[39m=\u001b[39m youtube\u001b[39m.\u001b[39;49mcaptions()\u001b[39m.\u001b[39;49mdownload(\n\u001b[1;32m     10\u001b[0m         \u001b[39mid\u001b[39;49m\u001b[39m=\u001b[39;49mcaption_id,\n\u001b[1;32m     11\u001b[0m         tfmt\u001b[39m=\u001b[39;49m\u001b[39m'\u001b[39;49m\u001b[39mvtt\u001b[39;49m\u001b[39m'\u001b[39;49m\n\u001b[0;32m---> 12\u001b[0m     )\u001b[39m.\u001b[39;49mexecute()\n",
      "File \u001b[0;32m~/anaconda3/lib/python3.10/site-packages/googleapiclient/_helpers.py:130\u001b[0m, in \u001b[0;36mpositional.<locals>.positional_decorator.<locals>.positional_wrapper\u001b[0;34m(*args, **kwargs)\u001b[0m\n\u001b[1;32m    128\u001b[0m     \u001b[39melif\u001b[39;00m positional_parameters_enforcement \u001b[39m==\u001b[39m POSITIONAL_WARNING:\n\u001b[1;32m    129\u001b[0m         logger\u001b[39m.\u001b[39mwarning(message)\n\u001b[0;32m--> 130\u001b[0m \u001b[39mreturn\u001b[39;00m wrapped(\u001b[39m*\u001b[39;49margs, \u001b[39m*\u001b[39;49m\u001b[39m*\u001b[39;49mkwargs)\n",
      "File \u001b[0;32m~/anaconda3/lib/python3.10/site-packages/googleapiclient/http.py:938\u001b[0m, in \u001b[0;36mHttpRequest.execute\u001b[0;34m(self, http, num_retries)\u001b[0m\n\u001b[1;32m    936\u001b[0m     callback(resp)\n\u001b[1;32m    937\u001b[0m \u001b[39mif\u001b[39;00m resp\u001b[39m.\u001b[39mstatus \u001b[39m>\u001b[39m\u001b[39m=\u001b[39m \u001b[39m300\u001b[39m:\n\u001b[0;32m--> 938\u001b[0m     \u001b[39mraise\u001b[39;00m HttpError(resp, content, uri\u001b[39m=\u001b[39m\u001b[39mself\u001b[39m\u001b[39m.\u001b[39muri)\n\u001b[1;32m    939\u001b[0m \u001b[39mreturn\u001b[39;00m \u001b[39mself\u001b[39m\u001b[39m.\u001b[39mpostproc(resp, content)\n",
      "\u001b[0;31mHttpError\u001b[0m: <HttpError 403 when requesting https://youtube.googleapis.com/youtube/v3/captions/AUieDabFVqU1ci7dx-cP4UHlWd3o9cjfS3ln-9GWe93N?tfmt=vtt returned \"The permissions associated with the request are not sufficient to download the caption track. The request might not be properly authorized, or the video order might not have enabled third-party contributions for this caption.\". Details: \"[{'message': 'The permissions associated with the request are not sufficient to download the caption track. The request might not be properly authorized, or the video order might not have enabled third-party contributions for this caption.', 'domain': 'youtube.caption', 'reason': 'forbidden', 'location': 'id', 'locationType': 'parameter'}]\">"
     ]
    }
   ],
   "source": [
    "captions = youtube.captions().list(\n",
    "        part='id', videoId=video_id\n",
    "    ).execute()\n",
    "\n",
    "# Extract the caption track ID\n",
    "caption_id = captions['items'][0]['id']\n",
    "\n",
    "# Download the caption track\n",
    "caption = youtube.captions().download(\n",
    "        id=caption_id,\n",
    "        tfmt='vtt'\n",
    "    ).execute()"
   ]
  },
  {
   "cell_type": "code",
   "execution_count": 43,
   "metadata": {},
   "outputs": [
    {
     "name": "stdout",
     "output_type": "stream",
     "text": [
      "An HTTP error 403 occurred:\n",
      "b'{\\n  \"error\": {\\n    \"code\": 403,\\n    \"message\": \"The permissions associated with the request are not sufficient to download the caption track. The request might not be properly authorized, or the video order might not have enabled third-party contributions for this caption.\",\\n    \"errors\": [\\n      {\\n        \"message\": \"The permissions associated with the request are not sufficient to download the caption track. The request might not be properly authorized, or the video order might not have enabled third-party contributions for this caption.\",\\n        \"domain\": \"youtube.caption\",\\n        \"reason\": \"forbidden\",\\n        \"location\": \"id\",\\n        \"locationType\": \"parameter\"\\n      }\\n    ]\\n  }\\n}\\n'\n"
     ]
    }
   ],
   "source": [
    "try:\n",
    "    caption = youtube.captions().download(\n",
    "        id=caption_id,\n",
    "        tfmt='srt'\n",
    "    ).execute()\n",
    "except googleapiclient.errors.Error as e:\n",
    "    print('An HTTP error %d occurred:\\n%s' % (e.resp.status, e.content))"
   ]
  },
  {
   "attachments": {},
   "cell_type": "markdown",
   "metadata": {},
   "source": [
    "### OpenAI"
   ]
  },
  {
   "cell_type": "code",
   "execution_count": 2,
   "metadata": {},
   "outputs": [],
   "source": [
    "# Set up OpenAI API credentials\n",
    "with open(\"alexapi.txt\") as f:\n",
    "    api_key = f.read().strip()\n",
    "\n",
    "openai.api_key = api_key"
   ]
  },
  {
   "cell_type": "code",
   "execution_count": 7,
   "metadata": {},
   "outputs": [],
   "source": [
    "# Define the prompt to generate text from\n",
    "prompt = \"write me a funny plot for a south park episode\"\n",
    "\n",
    "# Generate text using the ChatGPT model\n",
    "response = openai.Completion.create(\n",
    "  engine=\"curie\",\n",
    "  prompt=prompt,\n",
    "  max_tokens=200,\n",
    "  temperature=0.5\n",
    ")\n"
   ]
  },
  {
   "cell_type": "code",
   "execution_count": 11,
   "metadata": {},
   "outputs": [
    {
     "name": "stdout",
     "output_type": "stream",
     "text": [
      ".\n",
      "\n",
      "Anonymous 10/13/17 (Thu) 01:29:00 AM No. 376876 >>376874\n",
      "\n",
      "I'm not sure what you're talking about. Did you read the article?\n",
      "\n",
      "\n",
      "\n",
      ">>376875\n",
      "\n",
      "I'm not sure if you're trolling or not, but I'm not going to take you seriously. I'm not sure what you're talking about. Did you read the article?I'm not sure if you're trolling or not, but I'm not going to take you seriously.\n",
      "\n",
      "Anonymous 10/13/17 (Thu) 01:30:00 AM No. 376877 >>376876\n",
      "\n",
      "The article is about the guy who got a girl to dump her boyfriend for him. Not about the guy who got a girl to dump her boyfriend for him and then got the girl to dump her boyfriend for him. The article is about the guy who got a girl to dump her boyfriend for him.\n"
     ]
    }
   ],
   "source": [
    "# Print the generated text\n",
    "print(response[\"choices\"][0][\"text\"])"
   ]
  },
  {
   "cell_type": "code",
   "execution_count": null,
   "metadata": {},
   "outputs": [],
   "source": []
  }
 ],
 "metadata": {
  "kernelspec": {
   "display_name": "base",
   "language": "python",
   "name": "python3"
  },
  "language_info": {
   "codemirror_mode": {
    "name": "ipython",
    "version": 3
   },
   "file_extension": ".py",
   "mimetype": "text/x-python",
   "name": "python",
   "nbconvert_exporter": "python",
   "pygments_lexer": "ipython3",
   "version": "3.10.9"
  },
  "orig_nbformat": 4
 },
 "nbformat": 4,
 "nbformat_minor": 2
}
