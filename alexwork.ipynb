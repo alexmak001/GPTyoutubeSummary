{
 "cells": [
  {
   "cell_type": "code",
   "execution_count": 1,
   "metadata": {},
   "outputs": [],
   "source": [
    "import openai\n",
    "import os"
   ]
  },
  {
   "cell_type": "code",
   "execution_count": null,
   "metadata": {},
   "outputs": [],
   "source": [
    "import google.auth\n",
    "from googleapiclient.discovery import build\n",
    "import googleapiclient.errors\n",
    "from google.auth.transport.requests import Request\n",
    "from google.oauth2.credentials import Credentials\n",
    "from google_auth_oauthlib.flow import InstalledAppFlow"
   ]
  },
  {
   "attachments": {},
   "cell_type": "markdown",
   "metadata": {},
   "source": [
    "could not get google to work, use this instead: \"https://www.geeksforgeeks.org/python-downloading-captions-from-youtube/\""
   ]
  },
  {
   "cell_type": "code",
   "execution_count": 13,
   "metadata": {},
   "outputs": [],
   "source": [
    "from youtube_transcript_api import YouTubeTranscriptApi\n"
   ]
  },
  {
   "cell_type": "code",
   "execution_count": null,
   "metadata": {},
   "outputs": [],
   "source": []
  },
  {
   "attachments": {},
   "cell_type": "markdown",
   "metadata": {},
   "source": [
    "### Youtube API DOES NOT WORK"
   ]
  },
  {
   "cell_type": "code",
   "execution_count": 2,
   "metadata": {},
   "outputs": [],
   "source": [
    "# Set up OpenAI API credentials\n",
    "with open(\"alexytapi.txt\") as f:\n",
    "    yt_api_key = f.read().strip()\n"
   ]
  },
  {
   "cell_type": "code",
   "execution_count": 40,
   "metadata": {},
   "outputs": [],
   "source": [
    "# Load the client ID and secret from the JSON file\n",
    "creds = Credentials.from_authorized_user_file('alexoauth2.json', scopes=['https://www.googleapis.com/auth/youtube.force-ssl'])\n",
    "\n",
    "# If the credentials have expired, refresh them\n",
    "if creds and creds.expired and creds.refresh_token:\n",
    "    creds.refresh(Request())"
   ]
  },
  {
   "cell_type": "code",
   "execution_count": 6,
   "metadata": {},
   "outputs": [
    {
     "name": "stdout",
     "output_type": "stream",
     "text": [
      "Please visit this URL to authorize this application: https://accounts.google.com/o/oauth2/auth?response_type=code&client_id=398351462937-1scg1d6pfqn4ugcrg6pt91qpak0bcr51.apps.googleusercontent.com&redirect_uri=http%3A%2F%2Flocalhost%3A58441%2F&scope=https%3A%2F%2Fwww.googleapis.com%2Fauth%2Fyoutube.force-ssl&state=zR2cg417F5RCUoZRSdmVelolkl78gR&access_type=offline\n"
     ]
    }
   ],
   "source": [
    "# Set up the OAuth2 flow\n",
    "scopes = ['https://www.googleapis.com/auth/youtube.force-ssl']\n",
    "flow = InstalledAppFlow.from_client_secrets_file(\n",
    "    'alex3.json', scopes=scopes)\n",
    "\n",
    "# Run the flow to get an access token\n",
    "creds = flow.run_local_server(port=0)\n",
    "\n",
    "# Save the credentials to a file\n",
    "with open('creds.json', 'w') as f:\n",
    "    f.write(creds.to_json())\n",
    "    \n",
    "# Load the credentials from the file\n",
    "creds = Credentials.from_authorized_user_file('creds.json', scopes=scopes)"
   ]
  },
  {
   "cell_type": "code",
   "execution_count": 7,
   "metadata": {},
   "outputs": [],
   "source": [
    "youtube = build('youtube', 'v3', credentials=creds)"
   ]
  },
  {
   "cell_type": "code",
   "execution_count": 9,
   "metadata": {},
   "outputs": [],
   "source": [
    "def download_transcript(video_id):\n",
    "    #youtube = build('youtube', 'v3', developerKey=api_key)\n",
    "    \n",
    "    # Retrieve the video caption\n",
    "    captions = youtube.captions().list(\n",
    "        part='id', videoId=video_id\n",
    "    ).execute()\n",
    "    \n",
    "    # Extract the caption track ID\n",
    "    caption_id = captions['items'][0]['id']\n",
    "    \n",
    "    # Download the caption track\n",
    "    caption = youtube.captions().download(\n",
    "        id=caption_id,\n",
    "        tfmt='srt'\n",
    "    ).execute()\n",
    "    \n",
    "    return caption"
   ]
  },
  {
   "cell_type": "code",
   "execution_count": 9,
   "metadata": {},
   "outputs": [],
   "source": [
    "video_id = \"UF8uR6Z6KLc\"\n",
    "#transcript = download_transcript(video_id)"
   ]
  },
  {
   "cell_type": "code",
   "execution_count": 10,
   "metadata": {},
   "outputs": [
    {
     "ename": "HttpError",
     "evalue": "<HttpError 403 when requesting https://youtube.googleapis.com/youtube/v3/captions/AUieDabFVqU1ci7dx-cP4UHlWd3o9cjfS3ln-9GWe93N?tfmt=vtt returned \"The permissions associated with the request are not sufficient to download the caption track. The request might not be properly authorized, or the video order might not have enabled third-party contributions for this caption.\". Details: \"[{'message': 'The permissions associated with the request are not sufficient to download the caption track. The request might not be properly authorized, or the video order might not have enabled third-party contributions for this caption.', 'domain': 'youtube.caption', 'reason': 'forbidden', 'location': 'id', 'locationType': 'parameter'}]\">",
     "output_type": "error",
     "traceback": [
      "\u001b[0;31m---------------------------------------------------------------------------\u001b[0m",
      "\u001b[0;31mHttpError\u001b[0m                                 Traceback (most recent call last)",
      "Cell \u001b[0;32mIn[10], line 12\u001b[0m\n\u001b[1;32m      6\u001b[0m caption_id \u001b[39m=\u001b[39m captions[\u001b[39m'\u001b[39m\u001b[39mitems\u001b[39m\u001b[39m'\u001b[39m][\u001b[39m0\u001b[39m][\u001b[39m'\u001b[39m\u001b[39mid\u001b[39m\u001b[39m'\u001b[39m]\n\u001b[1;32m      8\u001b[0m \u001b[39m# Download the caption track\u001b[39;00m\n\u001b[1;32m      9\u001b[0m caption \u001b[39m=\u001b[39m youtube\u001b[39m.\u001b[39;49mcaptions()\u001b[39m.\u001b[39;49mdownload(\n\u001b[1;32m     10\u001b[0m         \u001b[39mid\u001b[39;49m\u001b[39m=\u001b[39;49mcaption_id,\n\u001b[1;32m     11\u001b[0m         tfmt\u001b[39m=\u001b[39;49m\u001b[39m'\u001b[39;49m\u001b[39mvtt\u001b[39;49m\u001b[39m'\u001b[39;49m\n\u001b[0;32m---> 12\u001b[0m     )\u001b[39m.\u001b[39;49mexecute()\n",
      "File \u001b[0;32m~/anaconda3/lib/python3.10/site-packages/googleapiclient/_helpers.py:130\u001b[0m, in \u001b[0;36mpositional.<locals>.positional_decorator.<locals>.positional_wrapper\u001b[0;34m(*args, **kwargs)\u001b[0m\n\u001b[1;32m    128\u001b[0m     \u001b[39melif\u001b[39;00m positional_parameters_enforcement \u001b[39m==\u001b[39m POSITIONAL_WARNING:\n\u001b[1;32m    129\u001b[0m         logger\u001b[39m.\u001b[39mwarning(message)\n\u001b[0;32m--> 130\u001b[0m \u001b[39mreturn\u001b[39;00m wrapped(\u001b[39m*\u001b[39;49margs, \u001b[39m*\u001b[39;49m\u001b[39m*\u001b[39;49mkwargs)\n",
      "File \u001b[0;32m~/anaconda3/lib/python3.10/site-packages/googleapiclient/http.py:938\u001b[0m, in \u001b[0;36mHttpRequest.execute\u001b[0;34m(self, http, num_retries)\u001b[0m\n\u001b[1;32m    936\u001b[0m     callback(resp)\n\u001b[1;32m    937\u001b[0m \u001b[39mif\u001b[39;00m resp\u001b[39m.\u001b[39mstatus \u001b[39m>\u001b[39m\u001b[39m=\u001b[39m \u001b[39m300\u001b[39m:\n\u001b[0;32m--> 938\u001b[0m     \u001b[39mraise\u001b[39;00m HttpError(resp, content, uri\u001b[39m=\u001b[39m\u001b[39mself\u001b[39m\u001b[39m.\u001b[39muri)\n\u001b[1;32m    939\u001b[0m \u001b[39mreturn\u001b[39;00m \u001b[39mself\u001b[39m\u001b[39m.\u001b[39mpostproc(resp, content)\n",
      "\u001b[0;31mHttpError\u001b[0m: <HttpError 403 when requesting https://youtube.googleapis.com/youtube/v3/captions/AUieDabFVqU1ci7dx-cP4UHlWd3o9cjfS3ln-9GWe93N?tfmt=vtt returned \"The permissions associated with the request are not sufficient to download the caption track. The request might not be properly authorized, or the video order might not have enabled third-party contributions for this caption.\". Details: \"[{'message': 'The permissions associated with the request are not sufficient to download the caption track. The request might not be properly authorized, or the video order might not have enabled third-party contributions for this caption.', 'domain': 'youtube.caption', 'reason': 'forbidden', 'location': 'id', 'locationType': 'parameter'}]\">"
     ]
    }
   ],
   "source": [
    "captions = youtube.captions().list(\n",
    "        part='id', videoId=video_id\n",
    "    ).execute()\n",
    "\n",
    "# Extract the caption track ID\n",
    "caption_id = captions['items'][0]['id']\n",
    "\n",
    "# Download the caption track\n",
    "caption = youtube.captions().download(\n",
    "        id=caption_id,\n",
    "        tfmt='vtt'\n",
    "    ).execute()"
   ]
  },
  {
   "cell_type": "code",
   "execution_count": 12,
   "metadata": {},
   "outputs": [
    {
     "ename": "TypeError",
     "evalue": "Got an unexpected keyword argument tfmt",
     "output_type": "error",
     "traceback": [
      "\u001b[0;31m---------------------------------------------------------------------------\u001b[0m",
      "\u001b[0;31mTypeError\u001b[0m                                 Traceback (most recent call last)",
      "Cell \u001b[0;32mIn[12], line 2\u001b[0m\n\u001b[1;32m      1\u001b[0m \u001b[39mtry\u001b[39;00m:\n\u001b[0;32m----> 2\u001b[0m     caption \u001b[39m=\u001b[39m youtube\u001b[39m.\u001b[39;49mcaptions()\u001b[39m.\u001b[39;49mlist(\n\u001b[1;32m      3\u001b[0m         \u001b[39mid\u001b[39;49m\u001b[39m=\u001b[39;49mcaption_id,\n\u001b[1;32m      4\u001b[0m         tfmt\u001b[39m=\u001b[39;49m\u001b[39m'\u001b[39;49m\u001b[39msrt\u001b[39;49m\u001b[39m'\u001b[39;49m\n\u001b[1;32m      5\u001b[0m     )\u001b[39m.\u001b[39mexecute()\n\u001b[1;32m      6\u001b[0m \u001b[39mexcept\u001b[39;00m googleapiclient\u001b[39m.\u001b[39merrors\u001b[39m.\u001b[39mError \u001b[39mas\u001b[39;00m e:\n\u001b[1;32m      7\u001b[0m     \u001b[39mprint\u001b[39m(\u001b[39m'\u001b[39m\u001b[39mAn HTTP error \u001b[39m\u001b[39m%d\u001b[39;00m\u001b[39m occurred:\u001b[39m\u001b[39m\\n\u001b[39;00m\u001b[39m%s\u001b[39;00m\u001b[39m'\u001b[39m \u001b[39m%\u001b[39m (e\u001b[39m.\u001b[39mresp\u001b[39m.\u001b[39mstatus, e\u001b[39m.\u001b[39mcontent))\n",
      "File \u001b[0;32m~/anaconda3/lib/python3.10/site-packages/googleapiclient/discovery.py:1048\u001b[0m, in \u001b[0;36mcreateMethod.<locals>.method\u001b[0;34m(self, **kwargs)\u001b[0m\n\u001b[1;32m   1046\u001b[0m \u001b[39mfor\u001b[39;00m name \u001b[39min\u001b[39;00m kwargs:\n\u001b[1;32m   1047\u001b[0m     \u001b[39mif\u001b[39;00m name \u001b[39mnot\u001b[39;00m \u001b[39min\u001b[39;00m parameters\u001b[39m.\u001b[39margmap:\n\u001b[0;32m-> 1048\u001b[0m         \u001b[39mraise\u001b[39;00m \u001b[39mTypeError\u001b[39;00m(\u001b[39m\"\u001b[39m\u001b[39mGot an unexpected keyword argument \u001b[39m\u001b[39m{}\u001b[39;00m\u001b[39m\"\u001b[39m\u001b[39m.\u001b[39mformat(name))\n\u001b[1;32m   1050\u001b[0m \u001b[39m# Remove args that have a value of None.\u001b[39;00m\n\u001b[1;32m   1051\u001b[0m keys \u001b[39m=\u001b[39m \u001b[39mlist\u001b[39m(kwargs\u001b[39m.\u001b[39mkeys())\n",
      "\u001b[0;31mTypeError\u001b[0m: Got an unexpected keyword argument tfmt"
     ]
    }
   ],
   "source": [
    "try:\n",
    "    caption = youtube.captions().download(\n",
    "        id=caption_id,\n",
    "        tfmt='srt'\n",
    "    ).execute()\n",
    "except googleapiclient.errors.Error as e:\n",
    "    print('An HTTP error %d occurred:\\n%s' % (e.resp.status, e.content))"
   ]
  },
  {
   "attachments": {},
   "cell_type": "markdown",
   "metadata": {},
   "source": [
    "### Youtube Workaround"
   ]
  },
  {
   "cell_type": "code",
   "execution_count": 17,
   "metadata": {},
   "outputs": [],
   "source": [
    "transcript_raw = YouTubeTranscriptApi.get_transcript(\"UF8uR6Z6KLc\")"
   ]
  },
  {
   "cell_type": "code",
   "execution_count": 18,
   "metadata": {},
   "outputs": [],
   "source": [
    "transcript = \"\"\n",
    "for t in transcript_raw:\n",
    "    transcript += t[\"text\"]"
   ]
  },
  {
   "cell_type": "code",
   "execution_count": 25,
   "metadata": {},
   "outputs": [],
   "source": [
    "transcript = transcript[0:(len(transcript)//2)]"
   ]
  },
  {
   "attachments": {},
   "cell_type": "markdown",
   "metadata": {},
   "source": [
    "### OpenAI"
   ]
  },
  {
   "cell_type": "code",
   "execution_count": 26,
   "metadata": {},
   "outputs": [],
   "source": [
    "# Set up OpenAI API credentials\n",
    "with open(\"keys/alexapi.txt\") as f:\n",
    "    api_key = f.read().strip()\n",
    "\n",
    "openai.api_key = api_key"
   ]
  },
  {
   "cell_type": "code",
   "execution_count": 27,
   "metadata": {},
   "outputs": [],
   "source": [
    "# Define the prompt to generate text from\n",
    "prompt = \"summarize in 300 words: \" + transcript\n",
    "\n",
    "# Generate text using the ChatGPT model\n",
    "response = openai.Completion.create(\n",
    "  engine=\"curie\",\n",
    "  prompt=prompt,\n",
    "  max_tokens=200,\n",
    "  temperature=0.5\n",
    ")\n"
   ]
  },
  {
   "cell_type": "code",
   "execution_count": 28,
   "metadata": {},
   "outputs": [
    {
     "name": "stdout",
     "output_type": "stream",
     "text": [
      "s gone,and I was free.I had a blank check to follow my heart.I was free to do anything.I was free to drop out and trust that I would be OK.I had nothing to lose.I had only just begun to live.I had so much to learn, so much to experience.I could go anywhere, do anything, be anyone.I could meet anyone, do anything, be anyone.I could travel any distance, be anyone.I could speak in public, be anyone.I could write about anything, be anyone.I could be anyone I wanted to be.For the first time in my life, I felt truly free.And that freedom is what has made all thedifference.So the next time you feel like your world is caving in,remember that your world was never meant to be on a steady foundation.It is meant to be in the wind.And so I am going to leave you with a story.This is the\n"
     ]
    }
   ],
   "source": [
    "# Print the generated text\n",
    "print(response[\"choices\"][0][\"text\"])"
   ]
  },
  {
   "cell_type": "code",
   "execution_count": 29,
   "metadata": {},
   "outputs": [
    {
     "data": {
      "text/plain": [
       "'This program is brought to you by Stanford University.Please visit us at stanford.eduThank You. I am honored to be with you today at your commencementfrom one of the finest universities in the world.Truth be told I never graduated from collegeand this is the closest I\\'ve ever gotten to a college graduation.Today I want to tell you three stories from my life. That\\'s it.No big deal. Just three stories.The first story is about connecting the dots.I dropped out of Reed College after the first 6 months,but then stayed around as a drop-infor another 18 months or so before I really quit.So why did I drop out?It started before I was born.My biological mother was a young, unwed graduate student,and she decided to put me up for adoption.She felt very strongly that I should be adopted by college graduates,so everything was all set for me tobe adopted at birth by a lawyer and his wife.Except that when I popped out they decidedat the last minute that they really wanted a girl.So my parents, who were on a waiting list,got a call in the middle of the night asking: \"We have an unexpectedbaby boy; do you want him?\"They said: \"Of course.\" My biological mother later found out thatmy mother had never graduated from collegeand that my father had never graduated from high school.She refused to sign the final adoption papers.She only relented a few months later whenmy parents promised that I would go to college. This was the start in my life.And 17 years later I did go to college. But I naively chose a collegethat was almost as expensive as Stanford,and all of my working-class parents\\'savings were being spent on my college tuition.After six months, I couldn\\'t see the value in it.I had no idea what I wanted to do with my lifeand no idea how college was going to help me figure it out.And here I was spending all of the money my parents had savedtheir entire life.So I decided to drop out and trust that it would all work out OK.It was pretty scary at the time,but looking back it was one of the best decisions I ever made.The minute I dropped out I could stoptaking the required classes that didn\\'t interest me,and begin dropping in on the ones that looked interesting.It wasn\\'t all romantic. I didn\\'t have a dorm room,so I slept on the floor in friends\\' rooms,I returned coke bottles for the 5 cent deposits to buy food with,and I would walk the 7 miles across town every Sundaynight to get one good meal a week at the Hare Krishnatemple. I loved it.And much of what I stumbled into by followingmy curiosity and intuition turned out to be priceless later on.Let me give you one example: Reed College at thattime offered perhaps the best calligraphy instruction in the country.Throughout the campus every poster, every label on every drawer,was beautifully hand calligraphed.Because I had dropped out and didn\\'t have to take the normal classes,I decided to take a calligraphy class to learn how to do this.I learned about serif and san serif typefaces,about varying the amount of spacebetween different letter combinations,about what makes great typography great.It was beautiful, historical,artistically subtle in a way that science can\\'t capture,and I found it fascinating.None of this had even a hope of any practical application in my life.But ten years later,when we were designing the first Macintosh computer,it all came back to me. And we designed it all into the Mac.It was the first computer with beautiful typography.If I had never dropped in on that single course in college,the Mac would have never had multipletypefaces or proportionally spaced fonts.And since Windows just copied the Mac,it\\'s likely that no personal computer would have them.If I had never dropped out,I would have never dropped in on this calligraphy class,and personal computers might not have the wonderful typographythat they do. Of course it was impossible to connectthe dots looking forward when I was in college.But it was very, very clear looking backwards ten years later.Again, you can\\'t connect the dots looking forward;you can only connect them looking backwards.So you have to trust that the dots will somehow connectin your future.You have to trust in something, your gut, destiny, life, karma,whatever.Beleiveing that the dots will connect down the road will give you the confidence to follow your heartEven when it leads you off the well worn path, and that will make all the difference.My second story is about love and loss.I was lucky I found what I loved to do early in life.Woz and I started Apple in my parents garage when I was 20.We worked hard, and in 10 years Apple had grown from just the two ofus in a garage into a $2 billion company with over 4000 employees.We had just released our finest creation the Macintosha year earlier, and I had just turned 30.And then I got fired.How can you get fired from a company you started?Well, as Apple grew we hired someone who I thoughtwas very talented to run the company with me,and for the first year or so things went well.But then our visions of the future beganto diverge and eventually we had a falling out.When we did, our Board of Directors sided with him.So at 30 I was out. And very publicly out.What had been the focus of my entire adult life was gone,and it was devastating.I really didn\\'t know what to do for a few months.I felt that I had let the previous generation of entrepreneursdown - that I had dropped the baton as it was being passed to me.I met with David Packard and Bob Noyceand tried to apologize for screwing up so badly.I was a very public failure,and I even thought about running away from the valley.But something slowly began to dawn on me I still loved what I did.The turn of events at Apple had not changed that one bit.I had been rejected, but I was still in love.And so I decided to start over.I didn\\'t see it then, but it turned out that getting fired fromApple was the best thing that could have ever happened to me.The heaviness of being successful w'"
      ]
     },
     "execution_count": 29,
     "metadata": {},
     "output_type": "execute_result"
    }
   ],
   "source": [
    "transcript"
   ]
  },
  {
   "cell_type": "code",
   "execution_count": null,
   "metadata": {},
   "outputs": [],
   "source": [
    "# look into coding to reduce input\n",
    "# remove useless words, or partition it"
   ]
  }
 ],
 "metadata": {
  "kernelspec": {
   "display_name": "base",
   "language": "python",
   "name": "python3"
  },
  "language_info": {
   "codemirror_mode": {
    "name": "ipython",
    "version": 3
   },
   "file_extension": ".py",
   "mimetype": "text/x-python",
   "name": "python",
   "nbconvert_exporter": "python",
   "pygments_lexer": "ipython3",
   "version": "3.10.9"
  },
  "orig_nbformat": 4
 },
 "nbformat": 4,
 "nbformat_minor": 2
}
