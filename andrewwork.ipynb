{
 "cells": [
  {
   "cell_type": "code",
   "execution_count": null,
   "metadata": {},
   "outputs": [],
   "source": [
    "import openai\n",
    "import os\n",
    "import google.auth\n",
    "from googleapiclient.discovery import build\n",
    "\n"
   ]
  },
  {
   "cell_type": "code",
   "execution_count": null,
   "metadata": {},
   "outputs": [],
   "source": [
    "# Set up the YouTube API client\n",
    "os.environ[\"OAUTHLIB_INSECURE_TRANSPORT\"] = \"1\"\n",
    "api_service_name = \"youtube\"\n",
    "api_version = \"v3\"\n",
    "credentials, _ = google.auth.default()\n",
    "youtube = build(api_service_name, api_version, credentials=credentials)\n",
    "\n",
    "# Set the YouTube video ID\n",
    "video_id = \"INSERT_YOUTUBE_VIDEO_ID_HERE\"\n",
    "\n",
    "# Get the video information, including the video's caption track\n",
    "video_response = youtube.videos().list(\n",
    "    part=\"snippet, contentDetails\",\n",
    "    id=video_id\n",
    ").execute()\n",
    "caption_track_id = video_response[\"items\"][0][\"contentDetails\"][\"caption\"][\"id\"]\n",
    "\n",
    "# Download the caption track\n",
    "caption_response = youtube.captions().download(\n",
    "    id=caption_track_id\n",
    ").execute()\n",
    "\n",
    "# Extract the transcript from the caption track\n",
    "transcript = \"\"\n",
    "for caption in caption_response[\"events\"]:\n",
    "    if \"text\" in caption:\n",
    "        transcript += caption[\"text\"] + \" \"\n",
    "\n",
    "# Use the transcript as input to your GPT API model\n",
    "print(transcript)\n"
   ]
  }
 ],
 "metadata": {
  "language_info": {
   "name": "python"
  },
  "orig_nbformat": 4
 },
 "nbformat": 4,
 "nbformat_minor": 2
}
